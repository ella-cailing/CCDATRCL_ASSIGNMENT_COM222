{
  "cells": [
    {
      "cell_type": "markdown",
      "metadata": {
        "id": "oh_CyYRMCtq0"
      },
      "source": [
        "# Exercise 6"
      ]
    },
    {
      "cell_type": "code",
      "source": [],
      "metadata": {
        "id": "Sj0YkA_0Czyq"
      },
      "execution_count": null,
      "outputs": []
    },
    {
      "cell_type": "markdown",
      "metadata": {
        "id": "7kHIjLl1Ctq9"
      },
      "source": [
        "#### Pre-defined code"
      ]
    },
    {
      "cell_type": "code",
      "execution_count": 4,
      "metadata": {
        "id": "1FuI0PDfCtq-"
      },
      "outputs": [],
      "source": [
        "class Node:\n",
        "    def __init__(self, item):\n",
        "        self.left = None\n",
        "        self.right = None\n",
        "        self.val = item"
      ]
    },
    {
      "cell_type": "code",
      "execution_count": 5,
      "metadata": {
        "id": "KHWL9Hr2CtrB"
      },
      "outputs": [],
      "source": [
        "def inorder(root):\n",
        "\n",
        "    if root:\n",
        "        # Traverse left\n",
        "        inorder(root.left)\n",
        "        # Traverse root\n",
        "        print(str(root.val) + \"->\", end='')\n",
        "        # Traverse right\n",
        "        inorder(root.right)\n",
        "\n",
        "def postorder(root):\n",
        "\n",
        "    if root:\n",
        "        # Traverse left\n",
        "        postorder(root.left)\n",
        "        # Traverse right\n",
        "        postorder(root.right)\n",
        "        # Traverse root\n",
        "        print(str(root.val) + \"->\", end='')\n",
        "\n",
        "def preorder(root):\n",
        "\n",
        "    if root:\n",
        "        # Traverse root\n",
        "        print(str(root.val) + \"->\", end='')\n",
        "        # Traverse left\n",
        "        preorder(root.left)\n",
        "        # Traverse right\n",
        "        preorder(root.right)"
      ]
    },
    {
      "cell_type": "markdown",
      "metadata": {
        "id": "cgTBe6BMCtrC"
      },
      "source": [
        "#### 1. Construct Create your own company org chart and put yourself as CEO.\n",
        "\n",
        "Using a Tree data structure,\n",
        "\n",
        "- Assign yourself as CEO\n",
        "\n",
        "- Assign any of your classmate as HR Director\n",
        "- Assign any of your classmate as Sales Director\n",
        "\n",
        "- Assign any of your classmate as trainee. His/her boss is the HR Director\n",
        "- Assign any of your classmate as a staff and trainee. Their boss is the Sales Director\n"
      ]
    },
    {
      "cell_type": "markdown",
      "metadata": {
        "id": "iYG5i-kDCtrC"
      },
      "source": [
        "<img src=\"https://thumbs.dreamstime.com/z/cartoon-organization-chart-some-company-93778925.jpg\"/>"
      ]
    },
    {
      "cell_type": "code",
      "execution_count": 15,
      "metadata": {
        "id": "245PcqSxCtrD"
      },
      "outputs": [],
      "source": [
        "root = Node(\" CEO: Cailing \")\n",
        "root.left = Node(\" HR: Tamayo \")\n",
        "root.right = Node(\" SALES: Estrada \")\n",
        "root.left.left = Node(\" TRAINEE: Chua \")\n",
        "root.right.left = Node(\" STAFF: Alis \")\n",
        "root.right.right = Node(\" TRAINEE: Alberto \")"
      ]
    },
    {
      "cell_type": "markdown",
      "metadata": {
        "id": "LEAiyjS2CtrD"
      },
      "source": [
        "#### 2. Traverse the tree in in-order traversal"
      ]
    },
    {
      "cell_type": "code",
      "execution_count": 16,
      "metadata": {
        "id": "sqcbpZtZCtrE",
        "colab": {
          "base_uri": "https://localhost:8080/"
        },
        "outputId": "2a9714f3-b5e1-47e0-c79b-0db2599b7fc9"
      },
      "outputs": [
        {
          "output_type": "stream",
          "name": "stdout",
          "text": [
            "In-order traversal \n",
            " TRAINEE: Chua -> HR: Tamayo -> CEO: Cailing -> STAFF: Alis -> SALES: Estrada -> TRAINEE: Alberto ->"
          ]
        }
      ],
      "source": [
        "print(\"In-order traversal \")\n",
        "inorder(root)"
      ]
    },
    {
      "cell_type": "markdown",
      "metadata": {
        "id": "3pr2lTKMCtrE"
      },
      "source": [
        "#### 3. Traverse the tree in pre-order traversal"
      ]
    },
    {
      "cell_type": "code",
      "execution_count": 13,
      "metadata": {
        "id": "0MmcQW3_CtrF",
        "colab": {
          "base_uri": "https://localhost:8080/"
        },
        "outputId": "d2ce968f-1bae-4ba5-8270-de1d5a784c03"
      },
      "outputs": [
        {
          "output_type": "stream",
          "name": "stdout",
          "text": [
            "Pre-order traversal \n",
            " CEO: Cailing-> HR: Tamayo-> TRAINEE: Chua-> SALES: Estrada-> STAFF: Alis-> TRAINEE: Alberto->"
          ]
        }
      ],
      "source": [
        "print(\"Pre-order traversal \")\n",
        "preorder(root)"
      ]
    },
    {
      "cell_type": "markdown",
      "metadata": {
        "id": "tZaCyfhcCtrF"
      },
      "source": [
        "#### 4. Traverse the tree in post-order traversal"
      ]
    },
    {
      "cell_type": "code",
      "execution_count": 14,
      "metadata": {
        "id": "H_JKQtuWCtrF",
        "colab": {
          "base_uri": "https://localhost:8080/"
        },
        "outputId": "b34d1fcd-64fd-4b88-948e-9dbcfcb90386"
      },
      "outputs": [
        {
          "output_type": "stream",
          "name": "stdout",
          "text": [
            "Post-order traversal \n",
            " TRAINEE: Chua-> HR: Tamayo-> STAFF: Alis-> TRAINEE: Alberto-> SALES: Estrada-> CEO: Cailing->"
          ]
        }
      ],
      "source": [
        "print(\"Post-order traversal \")\n",
        "postorder(root)"
      ]
    }
  ],
  "metadata": {
    "kernelspec": {
      "display_name": "Python 3",
      "language": "python",
      "name": "python3"
    },
    "language_info": {
      "codemirror_mode": {
        "name": "ipython",
        "version": 3
      },
      "file_extension": ".py",
      "mimetype": "text/x-python",
      "name": "python",
      "nbconvert_exporter": "python",
      "pygments_lexer": "ipython3",
      "version": "3.11.4"
    },
    "orig_nbformat": 4,
    "colab": {
      "provenance": []
    }
  },
  "nbformat": 4,
  "nbformat_minor": 0
}