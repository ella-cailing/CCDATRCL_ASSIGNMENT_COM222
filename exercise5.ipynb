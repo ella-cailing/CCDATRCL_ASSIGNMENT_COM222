{
  "cells": [
    {
      "cell_type": "markdown",
      "metadata": {
        "id": "0DoMt4Cmihb-"
      },
      "source": [
        "# Exercise 5"
      ]
    },
    {
      "cell_type": "markdown",
      "metadata": {
        "id": "bFEl9r0EihcE"
      },
      "source": [
        "#### 1. Create a dictionary of your 10 favorite songs."
      ]
    },
    {
      "cell_type": "markdown",
      "metadata": {
        "id": "elLuQPflihcF"
      },
      "source": [
        "Example:\n",
        "\n",
        "|KEY|VALUE|\n",
        "|---|---|\n",
        "|001|My Love|\n",
        "|002|Like a rose|"
      ]
    },
    {
      "cell_type": "code",
      "execution_count": 26,
      "metadata": {
        "id": "J2JzehewihcF",
        "colab": {
          "base_uri": "https://localhost:8080/"
        },
        "outputId": "5a0fd687-db6e-44da-a8ed-684303fb2af4"
      },
      "outputs": [
        {
          "output_type": "stream",
          "name": "stdout",
          "text": [
            "{'001': 'Friends', '002': 'Bibingka', '003': 'Take a Chance With Me', '004': 'Chilly', '005': 'The Less I Know The Better', '006': 'odds', '007': 'Like You Do', '008': 'Fried Noodles', '009': 'Let Go', '010': 'Almost Is Never Enough'}\n"
          ]
        }
      ],
      "source": [
        "favsongdictionary = {\n",
        "  \"001\": \"Friends\",\n",
        "  \"002\": \"Bibingka\",\n",
        "  \"003\": \"Take a Chance With Me\",\n",
        "  \"004\": \"Chilly\",\n",
        "  \"005\": \"The Less I Know The Better\",\n",
        "  \"006\": \"odds\",\n",
        "  \"007\": \"Like You Do\",\n",
        "  \"008\": \"Fried Noodles\",\n",
        "  \"009\": \"Let Go\",\n",
        "  \"010\": \"Almost Is Never Enough\"\n",
        "}\n",
        "print(favsongdictionary)"
      ]
    },
    {
      "cell_type": "markdown",
      "metadata": {
        "id": "hT3gHMxiihcI"
      },
      "source": [
        "#### 2. Loop through the dictionary by its **key** and **value**"
      ]
    },
    {
      "cell_type": "code",
      "execution_count": 27,
      "metadata": {
        "id": "6hHAtJlPihcJ",
        "colab": {
          "base_uri": "https://localhost:8080/"
        },
        "outputId": "fb16b389-0219-42a0-b1fd-1153714069af"
      },
      "outputs": [
        {
          "output_type": "stream",
          "name": "stdout",
          "text": [
            "001 Friends\n",
            "002 Bibingka\n",
            "003 Take a Chance With Me\n",
            "004 Chilly\n",
            "005 The Less I Know The Better\n",
            "006 odds\n",
            "007 Like You Do\n",
            "008 Fried Noodles\n",
            "009 Let Go\n",
            "010 Almost Is Never Enough\n"
          ]
        }
      ],
      "source": [
        "for x, y in favsongdictionary.items():\n",
        "  print(x, y)"
      ]
    },
    {
      "cell_type": "markdown",
      "metadata": {
        "id": "9nfYocO7ihcJ"
      },
      "source": [
        "#### 3. Add one additional song"
      ]
    },
    {
      "cell_type": "code",
      "execution_count": 28,
      "metadata": {
        "id": "dP-Pv2ekihcK",
        "colab": {
          "base_uri": "https://localhost:8080/"
        },
        "outputId": "1ae46f77-0379-40f7-c3e8-2c6d91651df5"
      },
      "outputs": [
        {
          "output_type": "execute_result",
          "data": {
            "text/plain": [
              "{'001': 'Friends',\n",
              " '002': 'Bibingka',\n",
              " '003': 'Take a Chance With Me',\n",
              " '004': 'Chilly',\n",
              " '005': 'The Less I Know The Better',\n",
              " '006': 'odds',\n",
              " '007': 'Like You Do',\n",
              " '008': 'Fried Noodles',\n",
              " '009': 'Let Go',\n",
              " '010': 'Almost Is Never Enough',\n",
              " '011': 'time machine'}"
            ]
          },
          "metadata": {},
          "execution_count": 28
        }
      ],
      "source": [
        "favsongdictionary[\"011\"] = \"time machine\"\n",
        "favsongdictionary"
      ]
    },
    {
      "cell_type": "markdown",
      "metadata": {
        "id": "_DdBhuFzihcK"
      },
      "source": [
        "#### 4. Remove one song"
      ]
    },
    {
      "cell_type": "code",
      "execution_count": 29,
      "metadata": {
        "id": "agVy3SZeihcL",
        "colab": {
          "base_uri": "https://localhost:8080/"
        },
        "outputId": "5f1145e6-f1e9-4d2e-e8cf-31a4a5cb4f73"
      },
      "outputs": [
        {
          "output_type": "execute_result",
          "data": {
            "text/plain": [
              "{'001': 'Friends',\n",
              " '002': 'Bibingka',\n",
              " '003': 'Take a Chance With Me',\n",
              " '004': 'Chilly',\n",
              " '005': 'The Less I Know The Better',\n",
              " '006': 'odds',\n",
              " '008': 'Fried Noodles',\n",
              " '009': 'Let Go',\n",
              " '010': 'Almost Is Never Enough',\n",
              " '011': 'time machine'}"
            ]
          },
          "metadata": {},
          "execution_count": 29
        }
      ],
      "source": [
        "favsongdictionary.pop(\"007\")\n",
        "favsongdictionary"
      ]
    },
    {
      "cell_type": "markdown",
      "metadata": {
        "id": "p3RmkIQDihcL"
      },
      "source": [
        "#### 5. Create a nested dictionary of your 10 favorite songs with 5 genres. Display all of the items of the nested dictionary\n",
        "\n",
        "- Each nested dictionary's key should be the genre of the song\n",
        "- Put each song in their respective genre"
      ]
    },
    {
      "cell_type": "markdown",
      "metadata": {
        "id": "sWHMI1G4ihcL"
      },
      "source": [
        "Example:\n",
        "\n",
        "\n",
        "|KEY|VALUE|\n",
        "|---|---|\n",
        "|Pop|{001, Baby}|\n",
        "|Rock|{001, Enter Sandman}|"
      ]
    },
    {
      "cell_type": "code",
      "execution_count": 30,
      "metadata": {
        "id": "jdK9IKhJihcM",
        "colab": {
          "base_uri": "https://localhost:8080/"
        },
        "outputId": "39d6377e-daa7-4637-bce6-62c8e483a0d1"
      },
      "outputs": [
        {
          "output_type": "execute_result",
          "data": {
            "text/plain": [
              "{'RnB': {'001': 'Officially Missing You', '002': 'See U Never'},\n",
              " 'Jazz': {'001': 'If I Could Ride a Bike',\n",
              "  '002': 'Summer is for Falling in Love'},\n",
              " 'Pop': {'001': 'R.E.M', '002': 'Plot Twist'},\n",
              " 'Rap': {'001': 'Pauwi Nako', '002': 'Kagome'},\n",
              " 'Kpop': {'001': 'Doughnut', '002': 'aenergy'}}"
            ]
          },
          "metadata": {},
          "execution_count": 30
        }
      ],
      "source": [
        "favsongdictionary = {\n",
        "  \"RnB\" : {\n",
        "    \"001\" : \"Officially Missing You\",\n",
        "    \"002\" : \"See U Never\"\n",
        "  },\n",
        "  \"Jazz\" : {\n",
        "    \"001\" : \"If I Could Ride a Bike\",\n",
        "    \"002\" : \"Summer is for Falling in Love\"\n",
        "  },\n",
        "  \"Pop\" : {\n",
        "    \"001\" : \"R.E.M\",\n",
        "    \"002\" : \"Plot Twist\"\n",
        "  },\n",
        "  \"Rap\" : {\n",
        "    \"001\" : \"Pauwi Nako\",\n",
        "    \"002\" : \"Kagome\"\n",
        "  },\n",
        "  \"Kpop\" : {\n",
        "    \"001\" : \"Doughnut\",\n",
        "    \"002\" : \"aenergy\"\n",
        "  }\n",
        "}\n",
        "\n",
        "favsongdictionary"
      ]
    },
    {
      "cell_type": "markdown",
      "metadata": {
        "id": "AVGfrN4mihcM"
      },
      "source": [
        "#### 6. Print the first song of the first genre"
      ]
    },
    {
      "cell_type": "code",
      "execution_count": 31,
      "metadata": {
        "id": "9f3oOdRAihcM",
        "colab": {
          "base_uri": "https://localhost:8080/"
        },
        "outputId": "fb78b81b-b42d-44e3-84f2-30859a785a6c"
      },
      "outputs": [
        {
          "output_type": "stream",
          "name": "stdout",
          "text": [
            "Officially Missing You\n"
          ]
        }
      ],
      "source": [
        "print(favsongdictionary[\"RnB\"][\"001\"])"
      ]
    },
    {
      "cell_type": "markdown",
      "metadata": {
        "id": "WrCBCyKiihcM"
      },
      "source": [
        "#### 7. Print the first song of the last genre"
      ]
    },
    {
      "cell_type": "code",
      "execution_count": 32,
      "metadata": {
        "id": "M3Umn2SjihcM",
        "colab": {
          "base_uri": "https://localhost:8080/"
        },
        "outputId": "82f345c0-5cf3-43fb-ecd8-cfe257e36563"
      },
      "outputs": [
        {
          "output_type": "stream",
          "name": "stdout",
          "text": [
            "Doughnut\n"
          ]
        }
      ],
      "source": [
        "print(favsongdictionary[\"Kpop\"][\"001\"])"
      ]
    }
  ],
  "metadata": {
    "kernelspec": {
      "display_name": "Python 3",
      "language": "python",
      "name": "python3"
    },
    "language_info": {
      "codemirror_mode": {
        "name": "ipython",
        "version": 3
      },
      "file_extension": ".py",
      "mimetype": "text/x-python",
      "name": "python",
      "nbconvert_exporter": "python",
      "pygments_lexer": "ipython3",
      "version": "3.11.4"
    },
    "orig_nbformat": 4,
    "colab": {
      "provenance": []
    }
  },
  "nbformat": 4,
  "nbformat_minor": 0
}