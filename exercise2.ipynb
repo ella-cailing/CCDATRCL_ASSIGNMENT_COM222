{
  "cells": [
    {
      "cell_type": "markdown",
      "metadata": {
        "id": "QNWAYtOH8JJM"
      },
      "source": [
        "# Exercise 2"
      ]
    },
    {
      "cell_type": "markdown",
      "metadata": {
        "id": "WqS_i0U78JJQ"
      },
      "source": [
        "#### Pre-defined stack functions"
      ]
    },
    {
      "cell_type": "code",
      "execution_count": 27,
      "metadata": {
        "id": "Q55AdD2y8JJR"
      },
      "outputs": [],
      "source": [
        "# Creating a stack\n",
        "def create_stack():\n",
        "    stack = []\n",
        "    return stack\n",
        "\n",
        "def print_stack(stack):\n",
        "\n",
        "    if (check_empty(stack)):\n",
        "            return \"stack is empty\"\n",
        "\n",
        "    # Create a copy of the stack and reverse the elements\n",
        "    tempStack = stack.copy()\n",
        "    tempStack.reverse()\n",
        "\n",
        "    # Print all elements using a loop\n",
        "    for i in tempStack:\n",
        "        print(i)\n",
        "\n",
        "    # Delete the copy to free up memory\n",
        "    del tempStack\n",
        "\n",
        "# Creating an empty stack\n",
        "def check_empty(stack):\n",
        "    return len(stack) == 0\n",
        "\n",
        "\n",
        "# Adding items into the stack\n",
        "def push(stack, item):\n",
        "    stack.append(item)\n",
        "    print(\"pushed item: \", item)\n",
        "\n",
        "\n",
        "# Removing an element from the stack\n",
        "def pop(stack):\n",
        "    if (check_empty(stack)):\n",
        "        return \"stack is empty\"\n",
        "\n",
        "    return stack.pop()\n",
        "\n",
        "def peek(stack):\n",
        "\n",
        "    # Use negative indexing to display the last element of the list\n",
        "    print(stack[-1])\n"
      ]
    },
    {
      "cell_type": "markdown",
      "metadata": {
        "id": "z5FA3bY38JJT"
      },
      "source": [
        "#### 1. Create a burger stack.  \n",
        "\n",
        "The output of the stack should be in this order:\n",
        "\n",
        "- Bun\n",
        "\n",
        "- Tomato\n",
        "\n",
        "- Lettuce\n",
        "\n",
        "- Cheese\n",
        "\n",
        "- Patty\n",
        "\n",
        "- Bun"
      ]
    },
    {
      "cell_type": "code",
      "execution_count": null,
      "metadata": {
        "id": "n6yPehQq8JJU",
        "colab": {
          "base_uri": "https://localhost:8080/"
        },
        "outputId": "ccc27ae5-fc43-4ae1-db12-e1425fdf6430"
      },
      "outputs": [
        {
          "output_type": "stream",
          "name": "stdout",
          "text": [
            "pushed item:  Bun\n",
            "pushed item:  Patty\n",
            "pushed item:  Cheese\n",
            "pushed item:  Lettuce\n",
            "pushed item:  Tomato\n",
            "pushed item:  Bun\n",
            "Bun\n",
            "Tomato\n",
            "Lettuce\n",
            "Cheese\n",
            "Patty\n",
            "Bun\n"
          ]
        }
      ],
      "source": [
        "# create new list\n",
        "burger_stack = create_stack()\n",
        "\n",
        "# populate stack using push\n",
        "push(burger_stack, \"Bun\")\n",
        "push(burger_stack, \"Patty\")\n",
        "push(burger_stack, \"Cheese\")\n",
        "push(burger_stack, \"Lettuce\")\n",
        "push(burger_stack, \"Tomato\")\n",
        "push(burger_stack, \"Bun\")\n",
        "\n",
        "# print\n",
        "print_stack(burger_stack)"
      ]
    },
    {
      "cell_type": "markdown",
      "metadata": {
        "id": "W4XvryDA8JJU"
      },
      "source": [
        "#### 2. Reverse a string using a stack\n",
        "\n",
        "Given two stacks:\n",
        "\n",
        "**name_stack = ['E', 'L', 'I', 'Z', 'E', 'R']**\n",
        "\n",
        "**reversed_stack = []**\n",
        "\n",
        "Use your **firstname** and pop each letter from the **name_stack** and push each element into the **reversed_stack**\n",
        "\n",
        "-----------------\n",
        "**Expected output:**\n",
        "\n",
        "print(reversed_stack)\n",
        "\n",
        "['R', 'E', 'Z', 'I', 'L', 'E']"
      ]
    },
    {
      "cell_type": "code",
      "execution_count": null,
      "metadata": {
        "id": "BuPMzC-g8JJV",
        "colab": {
          "base_uri": "https://localhost:8080/"
        },
        "outputId": "d32c8410-1b2b-4c39-fb9d-16bd7da60653"
      },
      "outputs": [
        {
          "output_type": "stream",
          "name": "stdout",
          "text": [
            "pushed item:  A\n",
            "pushed item:  L\n",
            "pushed item:  E\n",
            "pushed item:  A\n",
            "pushed item:  H\n",
            "pushed item:  C\n",
            "pushed item:  I\n",
            "pushed item:  M\n",
            "['A', 'L', 'E', 'A', 'H', 'C', 'I', 'M']\n"
          ]
        }
      ],
      "source": [
        "# given 2 stacks\n",
        "name_stack = ['M', 'I', 'C', 'H', 'A', 'E', 'L', 'A']\n",
        "reversed_stack = []\n",
        "\n",
        "# reverse using pop & push in reversed_stack\n",
        "while name_stack:\n",
        "    reversedletter = name_stack.pop()\n",
        "    push(reversed_stack, reversedletter)\n",
        "\n",
        "# print\n",
        "print(reversed_stack)"
      ]
    },
    {
      "cell_type": "markdown",
      "metadata": {
        "id": "coRKfCPZ8JJV"
      },
      "source": [
        "#### 3. Remove elements using a stack\n",
        "\n",
        "Given this stack:\n",
        "\n",
        "numbers = [1,2,3,4,5,6,7,8,9,10]\n",
        "\n",
        "new_stack = []\n",
        "\n",
        "Using the **pop()** function, push elements in the **new_stack** if they are an **even number**\n",
        "\n",
        "-----------------\n",
        "\n",
        "**Expected output:**\n",
        "\n",
        "print(new_stack)\n",
        "\n",
        "[2,4,6,8,10]"
      ]
    },
    {
      "cell_type": "code",
      "execution_count": 26,
      "metadata": {
        "id": "zTXYampp8JJV",
        "colab": {
          "base_uri": "https://localhost:8080/"
        },
        "outputId": "a587c12e-f7a4-4b8b-c715-31ce88866110"
      },
      "outputs": [
        {
          "output_type": "stream",
          "name": "stdout",
          "text": [
            "pushed item:  10\n",
            "pushed item:  8\n",
            "pushed item:  6\n",
            "pushed item:  4\n",
            "pushed item:  2\n",
            "[2, 4, 6, 8, 10]\n"
          ]
        }
      ],
      "source": [
        "# given\n",
        "numbers = [1,2,3,4,5,6,7,8,9,10]\n",
        "new_stack = []\n",
        "\n",
        "# pop numbers & push to new_stack if they are even\n",
        "while numbers:\n",
        "    given_nos = numbers.pop()\n",
        "    if given_nos % 2 == 0:\n",
        "       push(new_stack, given_nos)\n",
        "\n",
        "# reverse to match expected list output\n",
        "new_stack.reverse()\n",
        "\n",
        "# print\n",
        "print(new_stack)"
      ]
    },
    {
      "cell_type": "code",
      "source": [],
      "metadata": {
        "id": "d3ncDQLnY2Qv"
      },
      "execution_count": null,
      "outputs": []
    },
    {
      "cell_type": "markdown",
      "metadata": {
        "id": "1s4LGmuT8JJW"
      },
      "source": [
        "#### 4. Inserting elements into a stack\n",
        "\n",
        "Given two stacks:\n",
        "\n",
        "my_stack = ['E', 'L', 'I', 'Z', 'E', 'R', 'P', 'O', 'N', 'I', 'O', 'J', 'R']\n",
        "\n",
        "empty_stack = []\n",
        "\n",
        "Use **pop()** to get each element from  **my_stack** and use **push()** to insert the element to **empty_stack** only if:\n",
        "\n",
        "1. The element is a **vowel**\n",
        "2. The element does not exist in **empty_stack**\n",
        "\n",
        "----------------------\n",
        "\n",
        "**Expected output:**\n",
        "\n",
        "print_stack(empty_stack)\n",
        "\n",
        "['E', 'I', 'O']"
      ]
    },
    {
      "cell_type": "code",
      "execution_count": null,
      "metadata": {
        "id": "cGXh7yd18JJW",
        "colab": {
          "base_uri": "https://localhost:8080/"
        },
        "outputId": "daaa8f41-5d82-4f0b-f8ed-dff3da5e9e25"
      },
      "outputs": [
        {
          "output_type": "stream",
          "name": "stdout",
          "text": [
            "pushed item:  O\n",
            "pushed item:  I\n",
            "pushed item:  E\n",
            "O\n",
            "I\n",
            "E\n"
          ]
        }
      ],
      "source": [
        "# given\n",
        "my_stack = ['E', 'L', 'I', 'Z', 'E', 'R', 'P', 'O', 'N', 'I', 'O', 'J', 'R']\n",
        "empty_stack = []\n",
        "\n",
        "# define a function to check if a character is a vowel\n",
        "def vowel(char):\n",
        "    vowels = ['A', 'E', 'I', 'O', 'U']\n",
        "    return char.upper() in vowels\n",
        "\n",
        "# iterate through my_stack and transfer eligible elements to empty_stack\n",
        "while my_stack:\n",
        "    element = my_stack.pop()\n",
        "    if vowel(element) and element not in empty_stack:\n",
        "        push(empty_stack, element)\n",
        "\n",
        "# reverse empty_stack to match the expected output\n",
        "empty_stack.reverse()\n",
        "\n",
        "# print\n",
        "print_stack(empty_stack)"
      ]
    },
    {
      "cell_type": "markdown",
      "metadata": {
        "id": "cwtpya5m8JJX"
      },
      "source": [
        "#### 5. Sort elements in a stack\n",
        "\n",
        "Given two stacks:\n",
        "\n",
        "number_stack = [3,1,2]\n",
        "\n",
        "sorted_stack = []\n",
        "\n",
        "Create a **sort()** function to pop each element from the **number_stack** and push each element into the **sorted_stack**. The elements in **sorted_stack** must be in ascending order.\n",
        "\n",
        "----------------\n",
        "\n",
        "**Hint:**\n",
        "\n",
        "| iteration | number_stack | sorted_stack |\n",
        "| --- | --- | --- |\n",
        "| 1 | [3, 1, 2] | [] |\n",
        "| 2 | [3, 1] | [2] |\n",
        "| 3 | [3, 2] | [1] |\n",
        "| 4 | [3] | [1, 2] |\n",
        "| 5 | [] | [1, 2, 3] |\n",
        "\n",
        "**Expected output:**\n",
        "\n",
        "print(sorted_stack)\n",
        "\n",
        "[1, 2, 3]"
      ]
    },
    {
      "cell_type": "code",
      "execution_count": null,
      "metadata": {
        "id": "XrLee2zo8JJX",
        "colab": {
          "base_uri": "https://localhost:8080/"
        },
        "outputId": "9603fcb2-342a-48f2-b736-43d572418b75"
      },
      "outputs": [
        {
          "output_type": "stream",
          "name": "stdout",
          "text": [
            "pushed item:  2\n",
            "pushed item:  2\n",
            "pushed item:  1\n",
            "pushed item:  2\n",
            "pushed item:  3\n",
            "[1, 2, 3]\n"
          ]
        }
      ],
      "source": [
        "# given\n",
        "number_stack = [3, 1, 2]\n",
        "sorted_stack = []\n",
        "\n",
        "def sort(number_stack, sorted_stack):\n",
        "    while number_stack:\n",
        "        # pop the top element from the number_stack\n",
        "        temp = number_stack.pop()\n",
        "\n",
        "        # pop elements from sorted_stack and push them back to number_stack\n",
        "        while sorted_stack and sorted_stack[-1] > temp:\n",
        "            push(number_stack, sorted_stack.pop())\n",
        "\n",
        "        # push the current element to sorted_stack\n",
        "        push(sorted_stack, temp)\n",
        "\n",
        "# call the sort function\n",
        "sort(number_stack, sorted_stack)\n",
        "\n",
        "# print\n",
        "print(sorted_stack)"
      ]
    }
  ],
  "metadata": {
    "kernelspec": {
      "display_name": "Python 3",
      "language": "python",
      "name": "python3"
    },
    "language_info": {
      "codemirror_mode": {
        "name": "ipython",
        "version": 3
      },
      "file_extension": ".py",
      "mimetype": "text/x-python",
      "name": "python",
      "nbconvert_exporter": "python",
      "pygments_lexer": "ipython3",
      "version": "3.11.4"
    },
    "orig_nbformat": 4,
    "colab": {
      "provenance": []
    }
  },
  "nbformat": 4,
  "nbformat_minor": 0
}
