{
  "cells": [
    {
      "cell_type": "markdown",
      "metadata": {
        "id": "h2vFiYhGzZOg"
      },
      "source": [
        "# Exercise 1"
      ]
    },
    {
      "cell_type": "markdown",
      "source": [
        "## Class Initialization"
      ],
      "metadata": {
        "id": "sRm6kPQozcaU"
      }
    },
    {
      "cell_type": "code",
      "execution_count": 8,
      "metadata": {
        "id": "b1u4Dt9mzZOi"
      },
      "outputs": [],
      "source": [
        "class Node:\n",
        "    def __init__(self, data):\n",
        "        self.data = data\n",
        "        self.next = None\n",
        "        self.prev = None"
      ]
    },
    {
      "cell_type": "code",
      "execution_count": 5,
      "metadata": {
        "id": "tigvHSaHzZOj"
      },
      "outputs": [],
      "source": [
        "class LinkedList:\n",
        "\n",
        "    def __init__(self):\n",
        "        self.head = None\n",
        "\n",
        "    def traverse(self, node):\n",
        "        while node:\n",
        "            print(node.data, end=\" -> \")\n",
        "            node = node.next"
      ]
    },
    {
      "cell_type": "code",
      "execution_count": 10,
      "metadata": {
        "id": "LIkQBioVzZOk"
      },
      "outputs": [],
      "source": [
        "class DoublyLinkedList:\n",
        "\n",
        "    def __init__(self):\n",
        "        self.head = None\n",
        "\n",
        "    def traverse(self, node):\n",
        "        while node:\n",
        "            print(node.data, end=\" -> \")\n",
        "            node = node.next"
      ]
    },
    {
      "cell_type": "code",
      "execution_count": 9,
      "metadata": {
        "id": "zlxNT5EozZOl"
      },
      "outputs": [],
      "source": [
        "class CircularLinkedList:\n",
        "\n",
        "    def __init__(self):\n",
        "        self.head = None\n",
        "\n",
        "    def traverse(self, node):\n",
        "\n",
        "        head = node\n",
        "\n",
        "        while node:\n",
        "            print(node.data, end=\" -> \")\n",
        "            node = node.next\n",
        "\n",
        "            # Break to prevent infinite loop\n",
        "            if node == head:\n",
        "                break"
      ]
    },
    {
      "cell_type": "markdown",
      "metadata": {
        "id": "O68-Q1-bzZOl"
      },
      "source": [
        "#### 1. Create a Singly Linked list\n",
        "\n",
        "- Each node should contain your name and your seatmates in your row\n",
        "- Create at least 5 nodes\n",
        "- Traverse all nodes"
      ]
    },
    {
      "cell_type": "code",
      "execution_count": 19,
      "metadata": {
        "id": "pTcx_OuPzZOl",
        "colab": {
          "base_uri": "https://localhost:8080/"
        },
        "outputId": "5692a7e4-2256-4cd8-e1f9-cb48efef6ba6"
      },
      "outputs": [
        {
          "output_type": "stream",
          "name": "stdout",
          "text": [
            "Cailing -> Tamayo -> De Luna -> Alberto -> Estrada -> "
          ]
        }
      ],
      "source": [
        "# Creating new instance of LinkedList\n",
        "singly_ll = LinkedList()\n",
        "\n",
        "# Giving every node a data it will hold\n",
        "singly_ll.head = Node(\"Cailing\")\n",
        "node_b = Node(\"Tamayo\")\n",
        "node_c = Node(\"De Luna\")\n",
        "node_d = Node(\"Alberto\")\n",
        "node_e = Node(\"Estrada\")\n",
        "\n",
        "# Connecting each node\n",
        "singly_ll.head.next = node_b\n",
        "node_b.next = node_c # the node next to node b is node c\n",
        "node_c.next = node_d # the node next to node c is node d\n",
        "node_d.next = node_e # the node next to node d is node e\n",
        "\n",
        "# Traverse\n",
        "singly_ll.traverse(singly_ll.head)"
      ]
    },
    {
      "cell_type": "markdown",
      "metadata": {
        "id": "IFgwbdw_zZOm"
      },
      "source": [
        "#### 2. Create a Doubly Linked list\n",
        "\n",
        "- Each node should contain your name and your seatmates in your row\n",
        "- Create at least 5 nodes\n",
        "- Traverse all nodes"
      ]
    },
    {
      "cell_type": "code",
      "execution_count": 23,
      "metadata": {
        "id": "8kQD2A_QzZOm",
        "colab": {
          "base_uri": "https://localhost:8080/"
        },
        "outputId": "6fa7b5f3-d1f6-422d-fa3b-d0b680959834"
      },
      "outputs": [
        {
          "output_type": "stream",
          "name": "stdout",
          "text": [
            "Cailing -> Tamayo -> De Luna -> Alberto -> Estrada -> "
          ]
        }
      ],
      "source": [
        "# Creating new instance of DoublyLinkedList\n",
        "doubly_ll = DoublyLinkedList()\n",
        "\n",
        "\n",
        "# Giving every node a data it will hold\n",
        "doubly_ll.head = Node(\"Cailing\")\n",
        "node_b = Node(\"Tamayo\")\n",
        "node_c = Node(\"De Luna\")\n",
        "node_d = Node(\"Alberto\")\n",
        "node_e = Node(\"Estrada\")\n",
        "\n",
        "\n",
        "# Connecting each node\n",
        "doubly_ll.head.prev = None\n",
        "doubly_ll.head.next = node_b\n",
        "\n",
        "node_b.prev = doubly_ll.head\n",
        "node_b.next = node_c\n",
        "\n",
        "node_c.prev = node_b\n",
        "node_c.next = node_d\n",
        "\n",
        "node_d.prev = node_c\n",
        "node_d.next = node_e\n",
        "\n",
        "node_e.prev = node_d\n",
        "node_e.next = None\n",
        "\n",
        "# Traverse\n",
        "doubly_ll.traverse(doubly_ll.head)"
      ]
    },
    {
      "cell_type": "markdown",
      "metadata": {
        "id": "rtApbsCjzZOm"
      },
      "source": [
        "#### 3. Create a Circular Linked list\n",
        "\n",
        "- Each node should contain your name and your seatmates in your row\n",
        "- Create at least 5 nodes\n",
        "- Traverse all nodes"
      ]
    },
    {
      "cell_type": "code",
      "execution_count": 25,
      "metadata": {
        "id": "Gp1Oiq0jzZOn",
        "colab": {
          "base_uri": "https://localhost:8080/"
        },
        "outputId": "ab174a96-941f-4422-a7aa-2cdb1e555829"
      },
      "outputs": [
        {
          "output_type": "stream",
          "name": "stdout",
          "text": [
            "Cailing -> Tamayo -> De Luna -> Alberto -> Estrada -> "
          ]
        }
      ],
      "source": [
        "# Creating new instance of CircularLinkedList\n",
        "circular_ll = CircularLinkedList()\n",
        "\n",
        "\n",
        "# Giving every node a data it will hold\n",
        "circular_ll.head = Node(\"Cailing\")\n",
        "node_b = Node(\"Tamayo\")\n",
        "node_c = Node(\"De Luna\")\n",
        "node_d = Node(\"Alberto\")\n",
        "node_e = Node(\"Estrada\")\n",
        "\n",
        "\n",
        "# Connecting each node\n",
        "circular_ll.head.next = node_b\n",
        "node_b.next = node_c\n",
        "node_c.next = node_d\n",
        "node_d.next = node_e\n",
        "node_e.next = circular_ll.head\n",
        "\n",
        "# Traverse\n",
        "circular_ll.traverse(circular_ll.head)"
      ]
    }
  ],
  "metadata": {
    "kernelspec": {
      "display_name": "Python 3",
      "language": "python",
      "name": "python3"
    },
    "language_info": {
      "name": "python",
      "version": "3.11.4"
    },
    "orig_nbformat": 4,
    "colab": {
      "provenance": []
    }
  },
  "nbformat": 4,
  "nbformat_minor": 0
}